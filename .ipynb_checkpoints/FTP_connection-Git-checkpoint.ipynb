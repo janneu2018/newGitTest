{
 "cells": [
  {
   "cell_type": "code",
   "execution_count": 36,
   "metadata": {},
   "outputs": [
    {
     "name": "stderr",
     "output_type": "stream",
     "text": [
      "C:\\Anaconda3\\lib\\site-packages\\pysftp\\__init__.py:61: UserWarning: Failed to load HostKeys from C:\\Users\\jan.hendrik-neudeck\\.ssh\\known_hosts.  You will need to explicitly load HostKeys (cnopts.hostkeys.load(filename)) or disableHostKey checking (cnopts.hostkeys = None).\n",
      "  warnings.warn(wmsg, UserWarning)\n"
     ]
    }
   ],
   "source": [
    "import pysftp\n",
    "import os\n",
    "import tempfile\n",
    "import logging\n",
    "\n",
    "\n",
    "\n",
    "hostname = \"ftp.altmann-foerdertechnik.de\"\n",
    "user = \"307685-ommax\"\n",
    "pwd = \"D<v6rbtw8hbt\"\n",
    "cnopts = pysftp.CnOpts()\n",
    "cnopts.hostkeys = None  \n",
    "\n",
    "remote_path = '/logs/'\n",
    "local_path = \"C:\\\\Users\\\\jan.hendrik-neudeck\\\\Documents\\\\Ommax-data-science-project\\\\newGitTest\"\n",
    "\n",
    "with pysftp.Connection(host = hostname, username=user, password = pwd, cnopts=cnopts) as srv:\n",
    "        file_to_copy = '307685-ftp-2014-11-24' + '_'\n",
    "        # create temporary file\n",
    "        temp_file = tempfile.NamedTemporaryFile(prefix=file_to_copy, dir = local_path, delete=True)\n",
    "        # copy file from remote to local directory\n",
    "        try:\n",
    "            srv.get(remote_path + file_to_copy, localpath=temp_file.name)\n",
    "            logging.info('File {} copied to {}...'.format(file_to_copy, local_path))\n",
    "        except IOError as e:\n",
    "            logging.info('{}: {}'.format(e, file_to_copy))\n"
   ]
  },
  {
   "cell_type": "code",
   "execution_count": null,
   "metadata": {},
   "outputs": [],
   "source": []
  },
  {
   "cell_type": "code",
   "execution_count": null,
   "metadata": {},
   "outputs": [],
   "source": []
  }
 ],
 "metadata": {
  "kernelspec": {
   "display_name": "Python 3",
   "language": "python",
   "name": "python3"
  },
  "language_info": {
   "codemirror_mode": {
    "name": "ipython",
    "version": 3
   },
   "file_extension": ".py",
   "mimetype": "text/x-python",
   "name": "python",
   "nbconvert_exporter": "python",
   "pygments_lexer": "ipython3",
   "version": "3.6.5"
  }
 },
 "nbformat": 4,
 "nbformat_minor": 2
}
